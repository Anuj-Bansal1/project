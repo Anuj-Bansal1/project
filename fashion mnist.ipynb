{
 "cells": [
  {
   "cell_type": "code",
   "execution_count": 2,
   "id": "cab1a049",
   "metadata": {},
   "outputs": [],
   "source": [
    "import tensorflow as tf\n",
    "from tensorflow import keras \n",
    "import numpy as np\n",
    "import pandas as pd\n"
   ]
  },
  {
   "cell_type": "code",
   "execution_count": 3,
   "id": "c97c287e",
   "metadata": {},
   "outputs": [],
   "source": [
    "%matplotlib inline\n",
    "import matplotlib.pyplot as plt"
   ]
  },
  {
   "cell_type": "code",
   "execution_count": 4,
   "id": "4410e798",
   "metadata": {},
   "outputs": [],
   "source": [
    "train=pd.read_csv(r\"C:\\Users\\HP\\Desktop\\projects\\fashion mnist\\fashion-mnist_train.csv\")\n",
    "test=pd.read_csv(r\"C:\\Users\\HP\\Desktop\\projects\\fashion mnist\\fashion-mnist_test.csv\")"
   ]
  },
  {
   "cell_type": "code",
   "execution_count": 5,
   "id": "39e8a4de",
   "metadata": {},
   "outputs": [],
   "source": [
    "x_train=train.drop(\"label\",axis=1)\n",
    "y_train=train[\"label\"]"
   ]
  },
  {
   "cell_type": "code",
   "execution_count": 6,
   "id": "b89ac9e8",
   "metadata": {
    "scrolled": true
   },
   "outputs": [
    {
     "data": {
      "text/html": [
       "<div>\n",
       "<style scoped>\n",
       "    .dataframe tbody tr th:only-of-type {\n",
       "        vertical-align: middle;\n",
       "    }\n",
       "\n",
       "    .dataframe tbody tr th {\n",
       "        vertical-align: top;\n",
       "    }\n",
       "\n",
       "    .dataframe thead th {\n",
       "        text-align: right;\n",
       "    }\n",
       "</style>\n",
       "<table border=\"1\" class=\"dataframe\">\n",
       "  <thead>\n",
       "    <tr style=\"text-align: right;\">\n",
       "      <th></th>\n",
       "      <th>pixel1</th>\n",
       "      <th>pixel2</th>\n",
       "      <th>pixel3</th>\n",
       "      <th>pixel4</th>\n",
       "      <th>pixel5</th>\n",
       "      <th>pixel6</th>\n",
       "      <th>pixel7</th>\n",
       "      <th>pixel8</th>\n",
       "      <th>pixel9</th>\n",
       "      <th>pixel10</th>\n",
       "      <th>...</th>\n",
       "      <th>pixel775</th>\n",
       "      <th>pixel776</th>\n",
       "      <th>pixel777</th>\n",
       "      <th>pixel778</th>\n",
       "      <th>pixel779</th>\n",
       "      <th>pixel780</th>\n",
       "      <th>pixel781</th>\n",
       "      <th>pixel782</th>\n",
       "      <th>pixel783</th>\n",
       "      <th>pixel784</th>\n",
       "    </tr>\n",
       "  </thead>\n",
       "  <tbody>\n",
       "    <tr>\n",
       "      <th>0</th>\n",
       "      <td>0</td>\n",
       "      <td>0</td>\n",
       "      <td>0</td>\n",
       "      <td>0</td>\n",
       "      <td>0</td>\n",
       "      <td>0</td>\n",
       "      <td>0</td>\n",
       "      <td>0</td>\n",
       "      <td>0</td>\n",
       "      <td>0</td>\n",
       "      <td>...</td>\n",
       "      <td>0</td>\n",
       "      <td>0</td>\n",
       "      <td>0</td>\n",
       "      <td>0</td>\n",
       "      <td>0</td>\n",
       "      <td>0</td>\n",
       "      <td>0</td>\n",
       "      <td>0</td>\n",
       "      <td>0</td>\n",
       "      <td>0</td>\n",
       "    </tr>\n",
       "    <tr>\n",
       "      <th>1</th>\n",
       "      <td>0</td>\n",
       "      <td>0</td>\n",
       "      <td>0</td>\n",
       "      <td>0</td>\n",
       "      <td>0</td>\n",
       "      <td>0</td>\n",
       "      <td>0</td>\n",
       "      <td>0</td>\n",
       "      <td>0</td>\n",
       "      <td>0</td>\n",
       "      <td>...</td>\n",
       "      <td>0</td>\n",
       "      <td>0</td>\n",
       "      <td>0</td>\n",
       "      <td>0</td>\n",
       "      <td>0</td>\n",
       "      <td>0</td>\n",
       "      <td>0</td>\n",
       "      <td>0</td>\n",
       "      <td>0</td>\n",
       "      <td>0</td>\n",
       "    </tr>\n",
       "    <tr>\n",
       "      <th>2</th>\n",
       "      <td>0</td>\n",
       "      <td>0</td>\n",
       "      <td>0</td>\n",
       "      <td>0</td>\n",
       "      <td>0</td>\n",
       "      <td>0</td>\n",
       "      <td>0</td>\n",
       "      <td>5</td>\n",
       "      <td>0</td>\n",
       "      <td>0</td>\n",
       "      <td>...</td>\n",
       "      <td>0</td>\n",
       "      <td>0</td>\n",
       "      <td>0</td>\n",
       "      <td>30</td>\n",
       "      <td>43</td>\n",
       "      <td>0</td>\n",
       "      <td>0</td>\n",
       "      <td>0</td>\n",
       "      <td>0</td>\n",
       "      <td>0</td>\n",
       "    </tr>\n",
       "    <tr>\n",
       "      <th>3</th>\n",
       "      <td>0</td>\n",
       "      <td>0</td>\n",
       "      <td>0</td>\n",
       "      <td>1</td>\n",
       "      <td>2</td>\n",
       "      <td>0</td>\n",
       "      <td>0</td>\n",
       "      <td>0</td>\n",
       "      <td>0</td>\n",
       "      <td>0</td>\n",
       "      <td>...</td>\n",
       "      <td>3</td>\n",
       "      <td>0</td>\n",
       "      <td>0</td>\n",
       "      <td>0</td>\n",
       "      <td>0</td>\n",
       "      <td>1</td>\n",
       "      <td>0</td>\n",
       "      <td>0</td>\n",
       "      <td>0</td>\n",
       "      <td>0</td>\n",
       "    </tr>\n",
       "    <tr>\n",
       "      <th>4</th>\n",
       "      <td>0</td>\n",
       "      <td>0</td>\n",
       "      <td>0</td>\n",
       "      <td>0</td>\n",
       "      <td>0</td>\n",
       "      <td>0</td>\n",
       "      <td>0</td>\n",
       "      <td>0</td>\n",
       "      <td>0</td>\n",
       "      <td>0</td>\n",
       "      <td>...</td>\n",
       "      <td>0</td>\n",
       "      <td>0</td>\n",
       "      <td>0</td>\n",
       "      <td>0</td>\n",
       "      <td>0</td>\n",
       "      <td>0</td>\n",
       "      <td>0</td>\n",
       "      <td>0</td>\n",
       "      <td>0</td>\n",
       "      <td>0</td>\n",
       "    </tr>\n",
       "  </tbody>\n",
       "</table>\n",
       "<p>5 rows × 784 columns</p>\n",
       "</div>"
      ],
      "text/plain": [
       "   pixel1  pixel2  pixel3  pixel4  pixel5  pixel6  pixel7  pixel8  pixel9  \\\n",
       "0       0       0       0       0       0       0       0       0       0   \n",
       "1       0       0       0       0       0       0       0       0       0   \n",
       "2       0       0       0       0       0       0       0       5       0   \n",
       "3       0       0       0       1       2       0       0       0       0   \n",
       "4       0       0       0       0       0       0       0       0       0   \n",
       "\n",
       "   pixel10  ...  pixel775  pixel776  pixel777  pixel778  pixel779  pixel780  \\\n",
       "0        0  ...         0         0         0         0         0         0   \n",
       "1        0  ...         0         0         0         0         0         0   \n",
       "2        0  ...         0         0         0        30        43         0   \n",
       "3        0  ...         3         0         0         0         0         1   \n",
       "4        0  ...         0         0         0         0         0         0   \n",
       "\n",
       "   pixel781  pixel782  pixel783  pixel784  \n",
       "0         0         0         0         0  \n",
       "1         0         0         0         0  \n",
       "2         0         0         0         0  \n",
       "3         0         0         0         0  \n",
       "4         0         0         0         0  \n",
       "\n",
       "[5 rows x 784 columns]"
      ]
     },
     "execution_count": 6,
     "metadata": {},
     "output_type": "execute_result"
    }
   ],
   "source": [
    "x_train.head()"
   ]
  },
  {
   "cell_type": "code",
   "execution_count": 7,
   "id": "99b8d1fe",
   "metadata": {},
   "outputs": [
    {
     "data": {
      "text/plain": [
       "0    2\n",
       "1    9\n",
       "2    6\n",
       "3    0\n",
       "4    3\n",
       "Name: label, dtype: int64"
      ]
     },
     "execution_count": 7,
     "metadata": {},
     "output_type": "execute_result"
    }
   ],
   "source": [
    "y_train.head()"
   ]
  },
  {
   "cell_type": "code",
   "execution_count": 8,
   "id": "aea6aac6",
   "metadata": {},
   "outputs": [],
   "source": [
    "x_test=test.drop(\"label\",axis=1)\n",
    "y_test=test[\"label\"]"
   ]
  },
  {
   "cell_type": "code",
   "execution_count": 9,
   "id": "af4ccb1f",
   "metadata": {},
   "outputs": [],
   "source": [
    "classes=[\"top\",\"trouser\",\"pullover\",\"dress\",\"coat\",\"sandel\",\"shirt\",\"sneaker\",\"bag\",\"ankel boot\"]"
   ]
  },
  {
   "cell_type": "code",
   "execution_count": 10,
   "id": "58e936b0",
   "metadata": {},
   "outputs": [],
   "source": [
    "x_train=x_train/255\n",
    "x_test=x_test/255"
   ]
  },
  {
   "cell_type": "code",
   "execution_count": 11,
   "id": "529e2b21",
   "metadata": {},
   "outputs": [
    {
     "data": {
      "text/plain": [
       "(10000, 784)"
      ]
     },
     "execution_count": 11,
     "metadata": {},
     "output_type": "execute_result"
    }
   ],
   "source": [
    "x_train.shape\n",
    "x_test.shape"
   ]
  },
  {
   "cell_type": "code",
   "execution_count": 12,
   "id": "3ae3464a",
   "metadata": {
    "scrolled": true
   },
   "outputs": [],
   "source": [
    "x_train=x_train.to_numpy()\n",
    "x_test=x_test.to_numpy()"
   ]
  },
  {
   "cell_type": "code",
   "execution_count": 13,
   "id": "6e54a319",
   "metadata": {
    "scrolled": true
   },
   "outputs": [
    {
     "data": {
      "text/plain": [
       "(60000, 784)"
      ]
     },
     "execution_count": 13,
     "metadata": {},
     "output_type": "execute_result"
    }
   ],
   "source": [
    "x_train.shape"
   ]
  },
  {
   "cell_type": "code",
   "execution_count": 14,
   "id": "310f3d5e",
   "metadata": {
    "scrolled": true
   },
   "outputs": [],
   "source": [
    "x_train=x_train.reshape(60000,28,28)\n",
    "x_test=x_test.reshape(10000,28,28)"
   ]
  },
  {
   "cell_type": "code",
   "execution_count": 15,
   "id": "e8f12816",
   "metadata": {},
   "outputs": [
    {
     "data": {
      "text/plain": [
       "(10000, 28, 28)"
      ]
     },
     "execution_count": 15,
     "metadata": {},
     "output_type": "execute_result"
    }
   ],
   "source": [
    "x_train.shape\n",
    "x_test.shape"
   ]
  },
  {
   "cell_type": "code",
   "execution_count": 16,
   "id": "62d6cccb",
   "metadata": {
    "scrolled": true
   },
   "outputs": [
    {
     "data": {
      "text/plain": [
       "<matplotlib.image.AxesImage at 0xef02eb1c00>"
      ]
     },
     "execution_count": 16,
     "metadata": {},
     "output_type": "execute_result"
    },
    {
     "data": {
      "image/png": "[encoded data removed]",
      "text/plain": [
       "<Figure size 432x288 with 1 Axes>"
      ]
     },
     "metadata": {
      "needs_background": "light"
     },
     "output_type": "display_data"
    }
   ],
   "source": [
    "plt.imshow(x_train[0])"
   ]
  },
  {
   "cell_type": "code",
   "execution_count": 17,
   "id": "1726e5dc",
   "metadata": {},
   "outputs": [
    {
     "data": {
      "text/plain": [
       "'pullover'"
      ]
     },
     "execution_count": 17,
     "metadata": {},
     "output_type": "execute_result"
    }
   ],
   "source": [
    "classes[y_train[0]]"
   ]
  },
  {
   "cell_type": "code",
   "execution_count": 18,
   "id": "374f4eb5",
   "metadata": {},
   "outputs": [],
   "source": [
    "model= keras.Sequential([\n",
    "    #cnn\n",
    "    keras.layers.Conv1D(34,kernel_size=3,input_shape=(28,28),activation=\"relu\"),\n",
    "    keras.layers.MaxPool1D(),\n",
    "    keras.layers.Conv1D(44,kernel_size=3,input_shape=(28,28),activation=\"relu\"),\n",
    "    keras.layers.MaxPool1D(),\n",
    "    #ann\n",
    "    keras.layers.Flatten(input_shape=(28,28)),\n",
    "    keras.layers.Dense(150,activation=\"relu\"),\n",
    "    keras.layers.Dropout(.30),\n",
    "    keras.layers.Dense(100,activation=\"relu\"),\n",
    "    keras.layers.Dropout(.30),\n",
    "    keras.layers.Dense(50,activation=\"relu\"),\n",
    "    \n",
    "    keras.layers.Dense(10,activation=\"sigmoid\")\n",
    "    \n",
    "])\n",
    "model.compile(optimizer= \"adam\",loss=\"sparse_categorical_crossentropy\",metrics=[\"accuracy\"])"
   ]
  },
  {
   "cell_type": "code",
   "execution_count": 19,
   "id": "6ae6800e",
   "metadata": {
    "scrolled": true
   },
   "outputs": [
    {
     "name": "stdout",
     "output_type": "stream",
     "text": [
      "Epoch 1/50\n",
      "1875/1875 [==============================] - 16s 8ms/step - loss: 0.6395 - accuracy: 0.7645\n",
      "Epoch 2/50\n",
      "1875/1875 [==============================] - 14s 7ms/step - loss: 0.4362 - accuracy: 0.8427\n",
      "Epoch 3/50\n",
      "1875/1875 [==============================] - 14s 8ms/step - loss: 0.3911 - accuracy: 0.8582\n",
      "Epoch 4/50\n",
      "1875/1875 [==============================] - 14s 8ms/step - loss: 0.3670 - accuracy: 0.8682\n",
      "Epoch 5/50\n",
      "1875/1875 [==============================] - 14s 8ms/step - loss: 0.3431 - accuracy: 0.8767\n",
      "Epoch 6/50\n",
      "1875/1875 [==============================] - 14s 8ms/step - loss: 0.3297 - accuracy: 0.8802\n",
      "Epoch 7/50\n",
      "1875/1875 [==============================] - 14s 8ms/step - loss: 0.3176 - accuracy: 0.8853\n",
      "Epoch 8/50\n",
      "1875/1875 [==============================] - 14s 8ms/step - loss: 0.3091 - accuracy: 0.8889\n",
      "Epoch 9/50\n",
      "1875/1875 [==============================] - 14s 8ms/step - loss: 0.2974 - accuracy: 0.8913\n",
      "Epoch 10/50\n",
      "1875/1875 [==============================] - 14s 8ms/step - loss: 0.2901 - accuracy: 0.8946\n",
      "Epoch 11/50\n",
      "1875/1875 [==============================] - 15s 8ms/step - loss: 0.2826 - accuracy: 0.8963\n",
      "Epoch 12/50\n",
      "1875/1875 [==============================] - 15s 8ms/step - loss: 0.2752 - accuracy: 0.8985\n",
      "Epoch 13/50\n",
      "1875/1875 [==============================] - 15s 8ms/step - loss: 0.2705 - accuracy: 0.9024\n",
      "Epoch 14/50\n",
      "1875/1875 [==============================] - 15s 8ms/step - loss: 0.2665 - accuracy: 0.9022\n",
      "Epoch 15/50\n",
      "1875/1875 [==============================] - 15s 8ms/step - loss: 0.2623 - accuracy: 0.9026\n",
      "Epoch 16/50\n",
      "1875/1875 [==============================] - 15s 8ms/step - loss: 0.2556 - accuracy: 0.9069\n",
      "Epoch 17/50\n",
      "1875/1875 [==============================] - 15s 8ms/step - loss: 0.2513 - accuracy: 0.9079\n",
      "Epoch 18/50\n",
      "1875/1875 [==============================] - 15s 8ms/step - loss: 0.2481 - accuracy: 0.9097\n",
      "Epoch 19/50\n",
      "1875/1875 [==============================] - 15s 8ms/step - loss: 0.2429 - accuracy: 0.9114\n",
      "Epoch 20/50\n",
      "1875/1875 [==============================] - 15s 8ms/step - loss: 0.2393 - accuracy: 0.9115\n",
      "Epoch 21/50\n",
      "1875/1875 [==============================] - 15s 8ms/step - loss: 0.2351 - accuracy: 0.9127\n",
      "Epoch 22/50\n",
      "1875/1875 [==============================] - 15s 8ms/step - loss: 0.2322 - accuracy: 0.9138\n",
      "Epoch 23/50\n",
      "1875/1875 [==============================] - 15s 8ms/step - loss: 0.2291 - accuracy: 0.9146\n",
      "Epoch 24/50\n",
      "1875/1875 [==============================] - 15s 8ms/step - loss: 0.2273 - accuracy: 0.9158\n",
      "Epoch 25/50\n",
      "1875/1875 [==============================] - 15s 8ms/step - loss: 0.2250 - accuracy: 0.9162\n",
      "Epoch 26/50\n",
      "1875/1875 [==============================] - 15s 8ms/step - loss: 0.2245 - accuracy: 0.9162\n",
      "Epoch 27/50\n",
      "1875/1875 [==============================] - 16s 8ms/step - loss: 0.2205 - accuracy: 0.9195\n",
      "Epoch 28/50\n",
      "1875/1875 [==============================] - 15s 8ms/step - loss: 0.2219 - accuracy: 0.9175\n",
      "Epoch 29/50\n",
      "1875/1875 [==============================] - 15s 8ms/step - loss: 0.2157 - accuracy: 0.9213\n",
      "Epoch 30/50\n",
      "1875/1875 [==============================] - 15s 8ms/step - loss: 0.2149 - accuracy: 0.9197\n",
      "Epoch 31/50\n",
      "1875/1875 [==============================] - 15s 8ms/step - loss: 0.2132 - accuracy: 0.9221\n",
      "Epoch 32/50\n",
      "1875/1875 [==============================] - 15s 8ms/step - loss: 0.2110 - accuracy: 0.9222\n",
      "Epoch 33/50\n",
      "1875/1875 [==============================] - 15s 8ms/step - loss: 0.2076 - accuracy: 0.9222\n",
      "Epoch 34/50\n",
      "1875/1875 [==============================] - 15s 8ms/step - loss: 0.2094 - accuracy: 0.9233\n",
      "Epoch 35/50\n",
      "1875/1875 [==============================] - 15s 8ms/step - loss: 0.2030 - accuracy: 0.9247\n",
      "Epoch 36/50\n",
      "1875/1875 [==============================] - 15s 8ms/step - loss: 0.2043 - accuracy: 0.9251\n",
      "Epoch 37/50\n",
      "1875/1875 [==============================] - 15s 8ms/step - loss: 0.2046 - accuracy: 0.9252\n",
      "Epoch 38/50\n",
      "1875/1875 [==============================] - 15s 8ms/step - loss: 0.1993 - accuracy: 0.9266\n",
      "Epoch 39/50\n",
      "1875/1875 [==============================] - 15s 8ms/step - loss: 0.1992 - accuracy: 0.9257\n",
      "Epoch 40/50\n",
      "1875/1875 [==============================] - 15s 8ms/step - loss: 0.1970 - accuracy: 0.9275\n",
      "Epoch 41/50\n",
      "1875/1875 [==============================] - 15s 8ms/step - loss: 0.1926 - accuracy: 0.9285\n",
      "Epoch 42/50\n",
      "1875/1875 [==============================] - 15s 8ms/step - loss: 0.1971 - accuracy: 0.9268\n",
      "Epoch 43/50\n",
      "1875/1875 [==============================] - 15s 8ms/step - loss: 0.1902 - accuracy: 0.9304\n",
      "Epoch 44/50\n",
      "1875/1875 [==============================] - 15s 8ms/step - loss: 0.1905 - accuracy: 0.9290\n",
      "Epoch 45/50\n",
      "1875/1875 [==============================] - 15s 8ms/step - loss: 0.1880 - accuracy: 0.9315\n",
      "Epoch 46/50\n",
      "1875/1875 [==============================] - 15s 8ms/step - loss: 0.1857 - accuracy: 0.9316\n",
      "Epoch 47/50\n",
      "1875/1875 [==============================] - 15s 8ms/step - loss: 0.1864 - accuracy: 0.9311\n",
      "Epoch 48/50\n",
      "1875/1875 [==============================] - 15s 8ms/step - loss: 0.1867 - accuracy: 0.9303\n",
      "Epoch 49/50\n",
      "1875/1875 [==============================] - 15s 8ms/step - loss: 0.1857 - accuracy: 0.9314\n",
      "Epoch 50/50\n",
      "1875/1875 [==============================] - 15s 8ms/step - loss: 0.1808 - accuracy: 0.9337\n"
     ]
    },
    {
     "data": {
      "text/plain": [
       "<keras.callbacks.History at 0xef025aded0>"
      ]
     },
     "execution_count": 19,
     "metadata": {},
     "output_type": "execute_result"
    }
   ],
   "source": [
    "\n",
    "model.fit(x_train,y_train,epochs=50)"
   ]
  },
  {
   "cell_type": "code",
   "execution_count": 20,
   "id": "a08992d0",
   "metadata": {},
   "outputs": [
    {
     "name": "stdout",
     "output_type": "stream",
     "text": [
      "313/313 [==============================] - 1s 3ms/step\n"
     ]
    }
   ],
   "source": [
    "y_prediction=model.predict(x_test)"
   ]
  },
  {
   "cell_type": "code",
   "execution_count": 21,
   "id": "fdffee71",
   "metadata": {},
   "outputs": [],
   "source": [
    "from tensorflow.math import confusion_matrix"
   ]
  },
  {
   "cell_type": "code",
   "execution_count": 22,
   "id": "f5f3b6a5",
   "metadata": {},
   "outputs": [
    {
     "data": {
      "text/plain": [
       "(10000,)"
      ]
     },
     "execution_count": 22,
     "metadata": {},
     "output_type": "execute_result"
    }
   ],
   "source": [
    "y_test.shape"
   ]
  },
  {
   "cell_type": "code",
   "execution_count": 23,
   "id": "f7da8e23",
   "metadata": {},
   "outputs": [],
   "source": [
    "y_prediction=[np.argmax(i) for i in y_prediction]\n"
   ]
  },
  {
   "cell_type": "code",
   "execution_count": 24,
   "id": "3f1430f3",
   "metadata": {},
   "outputs": [],
   "source": [
    "cm = confusion_matrix(y_test,y_prediction)"
   ]
  },
  {
   "cell_type": "code",
   "execution_count": 27,
   "id": "6f65186b",
   "metadata": {},
   "outputs": [],
   "source": [
    "import seaborn as sm"
   ]
  },
  {
   "cell_type": "code",
   "execution_count": 34,
   "id": "b157405b",
   "metadata": {},
   "outputs": [
    {
     "data": {
      "text/plain": [
       "[0, 1, 2, 2, 3]"
      ]
     },
     "execution_count": 34,
     "metadata": {},
     "output_type": "execute_result"
    }
   ],
   "source": [
    "y_prediction[:5]"
   ]
  },
  {
   "cell_type": "code",
   "execution_count": 38,
   "id": "4fec6e42",
   "metadata": {},
   "outputs": [
    {
     "data": {
      "text/plain": [
       "<AxesSubplot:xlabel='predicted', ylabel='truth'>"
      ]
     },
     "execution_count": 38,
     "metadata": {},
     "output_type": "execute_result"
    },
    {
     "data": {
      "image/png": "[encoded data removed]",
      "text/plain": [
       "<Figure size 432x288 with 2 Axes>"
      ]
     },
     "metadata": {
      "needs_background": "light"
     },
     "output_type": "display_data"
    }
   ],
   "source": [
    "plt.Figure(figsize=(10,7))\n",
    "mapp= sm.heatmap(cm,annot=True,fmt = 'd')\n",
    "plt.xlabel(\"predicted\")\n",
    "plt.ylabel(\"truth\")\n",
    "mapp"
   ]
  },
  {
   "cell_type": "code",
   "execution_count": 39,
   "id": "5f6c3944",
   "metadata": {},
   "outputs": [],
   "source": [
    "from sklearn.metrics import classification_report"
   ]
  },
  {
   "cell_type": "code",
   "execution_count": 40,
   "id": "7a0755a9",
   "metadata": {},
   "outputs": [
    {
     "name": "stdout",
     "output_type": "stream",
     "text": [
      "              precision    recall  f1-score   support\n",
      "\n",
      "           0       0.86      0.80      0.82      1000\n",
      "           1       0.99      0.98      0.99      1000\n",
      "           2       0.84      0.83      0.84      1000\n",
      "           3       0.88      0.92      0.90      1000\n",
      "           4       0.83      0.87      0.85      1000\n",
      "           5       0.98      0.97      0.98      1000\n",
      "           6       0.73      0.73      0.73      1000\n",
      "           7       0.93      0.95      0.94      1000\n",
      "           8       0.98      0.97      0.98      1000\n",
      "           9       0.95      0.94      0.95      1000\n",
      "\n",
      "    accuracy                           0.90     10000\n",
      "   macro avg       0.90      0.90      0.90     10000\n",
      "weighted avg       0.90      0.90      0.90     10000\n",
      "\n"
     ]
    }
   ],
   "source": [
    "print(classification_report(y_test,y_prediction))"
   ]
  }
 ],
 "metadata": {
  "kernelspec": {
   "display_name": "Python 3 (ipykernel)",
   "language": "python",
   "name": "python3"
  },
  "language_info": {
   "codemirror_mode": {
    "name": "ipython",
    "version": 3
   },
   "file_extension": ".py",
   "mimetype": "text/x-python",
   "name": "python",
   "nbconvert_exporter": "python",
   "pygments_lexer": "ipython3",
   "version": "3.10.5"
  }
 },
 "nbformat": 4,
 "nbformat_minor": 5
}
